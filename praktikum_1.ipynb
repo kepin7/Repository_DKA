{
  "nbformat": 4,
  "nbformat_minor": 0,
  "metadata": {
    "colab": {
      "provenance": [],
      "toc_visible": true,
      "authorship_tag": "ABX9TyNws4ga9hIGkV4CWHGFYTCK",
      "include_colab_link": true
    },
    "kernelspec": {
      "name": "python3",
      "display_name": "Python 3"
    },
    "language_info": {
      "name": "python"
    }
  },
  "cells": [
    {
      "cell_type": "markdown",
      "metadata": {
        "id": "view-in-github",
        "colab_type": "text"
      },
      "source": [
        "<a href=\"https://colab.research.google.com/github/kepin7/Repository_DKA/blob/main/praktikum_1.ipynb\" target=\"_parent\"><img src=\"https://colab.research.google.com/assets/colab-badge.svg\" alt=\"Open In Colab\"/></a>"
      ]
    },
    {
      "cell_type": "markdown",
      "source": [
        "# Hello world"
      ],
      "metadata": {
        "id": "UTAo2Xa9y1gU"
      }
    },
    {
      "cell_type": "code",
      "execution_count": 1,
      "metadata": {
        "colab": {
          "base_uri": "https://localhost:8080/"
        },
        "id": "CgMXRDL8w4Su",
        "outputId": "d00f5bb7-daf1-4bd9-b6f5-ca9fe8cae964"
      },
      "outputs": [
        {
          "output_type": "stream",
          "name": "stdout",
          "text": [
            "Hello world\n"
          ]
        }
      ],
      "source": [
        "print(\"Hello world\")"
      ]
    },
    {
      "cell_type": "markdown",
      "source": [
        "# Aritmatika"
      ],
      "metadata": {
        "id": "Pgd8h3V5y_JO"
      }
    },
    {
      "cell_type": "code",
      "source": [
        "2 + 2"
      ],
      "metadata": {
        "colab": {
          "base_uri": "https://localhost:8080/"
        },
        "id": "HcQRbjqEyxKk",
        "outputId": "d4c8a77c-2c95-42fe-88f2-f56edcee2f46"
      },
      "execution_count": 12,
      "outputs": [
        {
          "output_type": "execute_result",
          "data": {
            "text/plain": [
              "4"
            ]
          },
          "metadata": {},
          "execution_count": 12
        }
      ]
    },
    {
      "cell_type": "code",
      "source": [
        "10 // 5"
      ],
      "metadata": {
        "colab": {
          "base_uri": "https://localhost:8080/"
        },
        "id": "AlWr9CVjzHCR",
        "outputId": "06d3d3a4-1466-4f38-843f-51c8cc8c38f4"
      },
      "execution_count": 11,
      "outputs": [
        {
          "output_type": "execute_result",
          "data": {
            "text/plain": [
              "2"
            ]
          },
          "metadata": {},
          "execution_count": 11
        }
      ]
    },
    {
      "cell_type": "code",
      "source": [
        "15 / 4"
      ],
      "metadata": {
        "colab": {
          "base_uri": "https://localhost:8080/"
        },
        "id": "xNuLQcnAzNFi",
        "outputId": "16bda1ae-1ff3-49c7-ec1b-bcfab4f91814"
      },
      "execution_count": 10,
      "outputs": [
        {
          "output_type": "execute_result",
          "data": {
            "text/plain": [
              "3.75"
            ]
          },
          "metadata": {},
          "execution_count": 10
        }
      ]
    },
    {
      "cell_type": "code",
      "source": [
        "15 // 4"
      ],
      "metadata": {
        "colab": {
          "base_uri": "https://localhost:8080/"
        },
        "id": "A0c_EyTMzR-D",
        "outputId": "591e5916-3675-41fe-a9e8-c729f9479236"
      },
      "execution_count": 13,
      "outputs": [
        {
          "output_type": "execute_result",
          "data": {
            "text/plain": [
              "3"
            ]
          },
          "metadata": {},
          "execution_count": 13
        }
      ]
    },
    {
      "cell_type": "code",
      "source": [
        "5 % 2"
      ],
      "metadata": {
        "colab": {
          "base_uri": "https://localhost:8080/"
        },
        "id": "JKV8LE5IzWtq",
        "outputId": "78594f1e-e24e-4cfd-c228-ab86039824be"
      },
      "execution_count": 14,
      "outputs": [
        {
          "output_type": "execute_result",
          "data": {
            "text/plain": [
              "1"
            ]
          },
          "metadata": {},
          "execution_count": 14
        }
      ]
    },
    {
      "cell_type": "code",
      "source": [
        "str = \"Hello, world!\"\n",
        "print(str)"
      ],
      "metadata": {
        "colab": {
          "base_uri": "https://localhost:8080/"
        },
        "id": "k692ZbLAzj0C",
        "outputId": "98dc6c66-05dc-4207-8c7a-fc95ba7fb698"
      },
      "execution_count": 15,
      "outputs": [
        {
          "output_type": "stream",
          "name": "stdout",
          "text": [
            "Hello world!\n"
          ]
        }
      ]
    },
    {
      "cell_type": "markdown",
      "source": [
        "# Penggabungan"
      ],
      "metadata": {
        "id": "Ub6DpWRtz_Wy"
      }
    },
    {
      "cell_type": "code",
      "source": [
        "str1 = \"Hello\"\n",
        "str2 = \"World\"\n",
        "result = str1 + \" \" + str2\n",
        "print(result)"
      ],
      "metadata": {
        "colab": {
          "base_uri": "https://localhost:8080/"
        },
        "id": "FV8F3teozwpA",
        "outputId": "a418bd67-951e-4340-e71c-c8a493d336f6"
      },
      "execution_count": 17,
      "outputs": [
        {
          "output_type": "stream",
          "name": "stdout",
          "text": [
            "Hello World\n"
          ]
        }
      ]
    },
    {
      "cell_type": "markdown",
      "source": [
        "# Perulangan"
      ],
      "metadata": {
        "id": "chz-XFEL0EC_"
      }
    },
    {
      "cell_type": "code",
      "source": [
        "str = \"Hello\"\n",
        "result = str * 3\n",
        "print(result)"
      ],
      "metadata": {
        "colab": {
          "base_uri": "https://localhost:8080/"
        },
        "id": "4n72Q8yz0OVq",
        "outputId": "3137229d-3c54-4c41-d693-974e338d456c"
      },
      "execution_count": 23,
      "outputs": [
        {
          "output_type": "stream",
          "name": "stdout",
          "text": [
            "HelloHelloHello\n"
          ]
        }
      ]
    },
    {
      "cell_type": "markdown",
      "source": [
        "# Mengakses karakter"
      ],
      "metadata": {
        "id": "jFuolIL00_1V"
      }
    },
    {
      "cell_type": "code",
      "source": [
        "str = \"DKA\"\n",
        "first_char = str[0] #indeks dimulai dari 0\n",
        "last_chart = str[-1] #indeks -1 adalah indeks terakhir\n",
        "print(first_char, last_chart)"
      ],
      "metadata": {
        "colab": {
          "base_uri": "https://localhost:8080/"
        },
        "id": "-DSdqC5F1DJS",
        "outputId": "fa7d241f-55c0-416e-e049-26cb55c8cd26"
      },
      "execution_count": 25,
      "outputs": [
        {
          "output_type": "stream",
          "name": "stdout",
          "text": [
            "D A\n"
          ]
        }
      ]
    },
    {
      "cell_type": "markdown",
      "source": [
        "# String slicing"
      ],
      "metadata": {
        "id": "vqHg18at1paZ"
      }
    },
    {
      "cell_type": "code",
      "source": [
        "str = \"Hello, World!\"\n",
        "sliced = str[0:5] # mengambil karakter ke 0 - 5"
      ],
      "metadata": {
        "id": "BqgMG1Ek1s0-"
      },
      "execution_count": null,
      "outputs": []
    },
    {
      "cell_type": "markdown",
      "source": [
        "# Tipe data list"
      ],
      "metadata": {
        "id": "uGF65_9E2Z3s"
      }
    },
    {
      "cell_type": "code",
      "source": [
        "list_of_numbers = [1, 3, 5, 10]\n",
        "print(list_of_numbers)"
      ],
      "metadata": {
        "colab": {
          "base_uri": "https://localhost:8080/"
        },
        "id": "VHc14iD22dGp",
        "outputId": "da920d31-5f79-4e4c-eafe-013da780959b"
      },
      "execution_count": 26,
      "outputs": [
        {
          "output_type": "stream",
          "name": "stdout",
          "text": [
            "[1, 3, 5, 10]\n"
          ]
        }
      ]
    }
  ]
}