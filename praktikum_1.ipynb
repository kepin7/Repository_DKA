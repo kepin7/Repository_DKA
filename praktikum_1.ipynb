{
  "nbformat": 4,
  "nbformat_minor": 0,
  "metadata": {
    "colab": {
      "provenance": [],
      "toc_visible": true,
      "authorship_tag": "ABX9TyPvEzu34br9BHgm8TMb7T3c",
      "include_colab_link": true
    },
    "kernelspec": {
      "name": "python3",
      "display_name": "Python 3"
    },
    "language_info": {
      "name": "python"
    }
  },
  "cells": [
    {
      "cell_type": "markdown",
      "metadata": {
        "id": "view-in-github",
        "colab_type": "text"
      },
      "source": [
        "<a href=\"https://colab.research.google.com/github/kepin7/Repository_DKA/blob/main/praktikum_1.ipynb\" target=\"_parent\"><img src=\"https://colab.research.google.com/assets/colab-badge.svg\" alt=\"Open In Colab\"/></a>"
      ]
    },
    {
      "cell_type": "markdown",
      "source": [
        "# Hello world"
      ],
      "metadata": {
        "id": "UTAo2Xa9y1gU"
      }
    },
    {
      "cell_type": "code",
      "execution_count": 38,
      "metadata": {
        "colab": {
          "base_uri": "https://localhost:8080/"
        },
        "id": "CgMXRDL8w4Su",
        "outputId": "2d70bcd0-b723-4061-da7e-5b379e3d3af4"
      },
      "outputs": [
        {
          "output_type": "stream",
          "name": "stdout",
          "text": [
            "Hello World!\n"
          ]
        }
      ],
      "source": [
        "print(\"Hello World!\")"
      ]
    },
    {
      "cell_type": "markdown",
      "source": [
        "# Aritmatika"
      ],
      "metadata": {
        "id": "Pgd8h3V5y_JO"
      }
    },
    {
      "cell_type": "code",
      "source": [
        "2 + 2"
      ],
      "metadata": {
        "colab": {
          "base_uri": "https://localhost:8080/"
        },
        "id": "HcQRbjqEyxKk",
        "outputId": "d4c8a77c-2c95-42fe-88f2-f56edcee2f46"
      },
      "execution_count": 12,
      "outputs": [
        {
          "output_type": "execute_result",
          "data": {
            "text/plain": [
              "4"
            ]
          },
          "metadata": {},
          "execution_count": 12
        }
      ]
    },
    {
      "cell_type": "code",
      "source": [
        "10 // 5"
      ],
      "metadata": {
        "colab": {
          "base_uri": "https://localhost:8080/"
        },
        "id": "AlWr9CVjzHCR",
        "outputId": "06d3d3a4-1466-4f38-843f-51c8cc8c38f4"
      },
      "execution_count": 11,
      "outputs": [
        {
          "output_type": "execute_result",
          "data": {
            "text/plain": [
              "2"
            ]
          },
          "metadata": {},
          "execution_count": 11
        }
      ]
    },
    {
      "cell_type": "code",
      "source": [
        "15 / 4"
      ],
      "metadata": {
        "colab": {
          "base_uri": "https://localhost:8080/"
        },
        "id": "xNuLQcnAzNFi",
        "outputId": "16bda1ae-1ff3-49c7-ec1b-bcfab4f91814"
      },
      "execution_count": 10,
      "outputs": [
        {
          "output_type": "execute_result",
          "data": {
            "text/plain": [
              "3.75"
            ]
          },
          "metadata": {},
          "execution_count": 10
        }
      ]
    },
    {
      "cell_type": "code",
      "source": [
        "15 // 4"
      ],
      "metadata": {
        "colab": {
          "base_uri": "https://localhost:8080/"
        },
        "id": "A0c_EyTMzR-D",
        "outputId": "591e5916-3675-41fe-a9e8-c729f9479236"
      },
      "execution_count": 13,
      "outputs": [
        {
          "output_type": "execute_result",
          "data": {
            "text/plain": [
              "3"
            ]
          },
          "metadata": {},
          "execution_count": 13
        }
      ]
    },
    {
      "cell_type": "code",
      "source": [
        "5 % 2"
      ],
      "metadata": {
        "colab": {
          "base_uri": "https://localhost:8080/"
        },
        "id": "JKV8LE5IzWtq",
        "outputId": "78594f1e-e24e-4cfd-c228-ab86039824be"
      },
      "execution_count": 14,
      "outputs": [
        {
          "output_type": "execute_result",
          "data": {
            "text/plain": [
              "1"
            ]
          },
          "metadata": {},
          "execution_count": 14
        }
      ]
    },
    {
      "cell_type": "code",
      "source": [
        "str = \"Hello, world!\"\n",
        "print(str)"
      ],
      "metadata": {
        "colab": {
          "base_uri": "https://localhost:8080/"
        },
        "id": "k692ZbLAzj0C",
        "outputId": "98dc6c66-05dc-4207-8c7a-fc95ba7fb698"
      },
      "execution_count": 15,
      "outputs": [
        {
          "output_type": "stream",
          "name": "stdout",
          "text": [
            "Hello world!\n"
          ]
        }
      ]
    },
    {
      "cell_type": "markdown",
      "source": [
        "# Penggabungan"
      ],
      "metadata": {
        "id": "Ub6DpWRtz_Wy"
      }
    },
    {
      "cell_type": "code",
      "source": [
        "str1 = \"Hello\"\n",
        "str2 = \"World\"\n",
        "result = str1 + \" \" + str2\n",
        "print(result)"
      ],
      "metadata": {
        "colab": {
          "base_uri": "https://localhost:8080/"
        },
        "id": "FV8F3teozwpA",
        "outputId": "a418bd67-951e-4340-e71c-c8a493d336f6"
      },
      "execution_count": 17,
      "outputs": [
        {
          "output_type": "stream",
          "name": "stdout",
          "text": [
            "Hello World\n"
          ]
        }
      ]
    },
    {
      "cell_type": "markdown",
      "source": [
        "# Perulangan"
      ],
      "metadata": {
        "id": "chz-XFEL0EC_"
      }
    },
    {
      "cell_type": "code",
      "source": [
        "str = \"Hello\"\n",
        "result = str * 3\n",
        "print(result)"
      ],
      "metadata": {
        "colab": {
          "base_uri": "https://localhost:8080/"
        },
        "id": "4n72Q8yz0OVq",
        "outputId": "3137229d-3c54-4c41-d693-974e338d456c"
      },
      "execution_count": 23,
      "outputs": [
        {
          "output_type": "stream",
          "name": "stdout",
          "text": [
            "HelloHelloHello\n"
          ]
        }
      ]
    },
    {
      "cell_type": "markdown",
      "source": [
        "# Mengakses karakter"
      ],
      "metadata": {
        "id": "jFuolIL00_1V"
      }
    },
    {
      "cell_type": "code",
      "source": [
        "str = \"DKA\"\n",
        "first_char = str[0] #indeks dimulai dari 0\n",
        "last_chart = str[-1] #indeks -1 adalah indeks terakhir\n",
        "print(first_char, last_chart)"
      ],
      "metadata": {
        "colab": {
          "base_uri": "https://localhost:8080/"
        },
        "id": "-DSdqC5F1DJS",
        "outputId": "fa7d241f-55c0-416e-e049-26cb55c8cd26"
      },
      "execution_count": 25,
      "outputs": [
        {
          "output_type": "stream",
          "name": "stdout",
          "text": [
            "D A\n"
          ]
        }
      ]
    },
    {
      "cell_type": "markdown",
      "source": [
        "# String slicing"
      ],
      "metadata": {
        "id": "vqHg18at1paZ"
      }
    },
    {
      "cell_type": "code",
      "source": [
        "str = \"Hello, World!\"\n",
        "sliced = str[0:5] # mengambil karakter ke 0 - 5"
      ],
      "metadata": {
        "id": "BqgMG1Ek1s0-"
      },
      "execution_count": null,
      "outputs": []
    },
    {
      "cell_type": "markdown",
      "source": [
        "# Tipe data list"
      ],
      "metadata": {
        "id": "uGF65_9E2Z3s"
      }
    },
    {
      "cell_type": "code",
      "source": [
        "list_of_numbers = [1, 3, 5, 10]\n",
        "print(list_of_numbers)"
      ],
      "metadata": {
        "colab": {
          "base_uri": "https://localhost:8080/"
        },
        "id": "VHc14iD22dGp",
        "outputId": "da920d31-5f79-4e4c-eafe-013da780959b"
      },
      "execution_count": 26,
      "outputs": [
        {
          "output_type": "stream",
          "name": "stdout",
          "text": [
            "[1, 3, 5, 10]\n"
          ]
        }
      ]
    },
    {
      "cell_type": "code",
      "source": [
        "list_of_strings = [\"dasar\", \"kecerdasan\", \"artifisial\"]\n",
        "print(list_of_strings)"
      ],
      "metadata": {
        "colab": {
          "base_uri": "https://localhost:8080/"
        },
        "id": "v9YBhMHy3Fx8",
        "outputId": "ac2d25d3-54ee-4762-ee9a-0ed226f62519"
      },
      "execution_count": 27,
      "outputs": [
        {
          "output_type": "stream",
          "name": "stdout",
          "text": [
            "['dasar', 'kecerdasan', 'artifisial']\n"
          ]
        }
      ]
    },
    {
      "cell_type": "markdown",
      "source": [
        "# Tipe data dictionary"
      ],
      "metadata": {
        "id": "0eB42Fiw3if_"
      }
    },
    {
      "cell_type": "code",
      "source": [
        "my_dict = {\n",
        "    \"nama\": \"Kevin\",\n",
        "    \"umur\": 20,\n",
        "    \"kota\": \"Purwokerto\",\n",
        "    \"universitas\": \"Telkom University\"\n",
        "}\n",
        "print(my_dict[\"nama\"])\n",
        "print(my_dict[\"kota\"])"
      ],
      "metadata": {
        "colab": {
          "base_uri": "https://localhost:8080/"
        },
        "id": "15rEFjnP3mTF",
        "outputId": "b89c7e62-1da4-4027-8d71-cf3f06f554d3"
      },
      "execution_count": 28,
      "outputs": [
        {
          "output_type": "stream",
          "name": "stdout",
          "text": [
            "Kevin\n",
            "Purwokerto\n"
          ]
        }
      ]
    },
    {
      "cell_type": "markdown",
      "source": [
        "# Tipe data set"
      ],
      "metadata": {
        "id": "u6kNF2sX4taJ"
      }
    },
    {
      "cell_type": "code",
      "source": [
        "# membuat set kosong\n",
        "my_set = set()\n",
        "\n",
        "#  set dengan beberapa elemen\n",
        "my_set = {1, 2, 3, \"apple\", 3.14}\n",
        "print(my_set)"
      ],
      "metadata": {
        "colab": {
          "base_uri": "https://localhost:8080/"
        },
        "id": "WNTA04at4wUE",
        "outputId": "903eabdf-b5fe-4202-ed5f-264c8a1b4de6"
      },
      "execution_count": 34,
      "outputs": [
        {
          "output_type": "stream",
          "name": "stdout",
          "text": [
            "{1, 2, 3.14, 3, 'apple'}\n"
          ]
        }
      ]
    },
    {
      "cell_type": "markdown",
      "source": [
        "# Tipe data boolean"
      ],
      "metadata": {
        "id": "VJpqaQ9q5oOU"
      }
    },
    {
      "cell_type": "code",
      "source": [
        "is_student = True\n",
        "informatics_student = False\n",
        "print(is_student, informatics_student)"
      ],
      "metadata": {
        "colab": {
          "base_uri": "https://localhost:8080/"
        },
        "id": "F28TQyHz5r-g",
        "outputId": "c17f319f-368d-4098-da8d-6ee7adf48920"
      },
      "execution_count": 35,
      "outputs": [
        {
          "output_type": "stream",
          "name": "stdout",
          "text": [
            "True False\n"
          ]
        }
      ]
    },
    {
      "cell_type": "markdown",
      "source": [
        "# Input dan output pada python"
      ],
      "metadata": {
        "id": "fsgRTx-x56EM"
      }
    },
    {
      "cell_type": "code",
      "source": [
        "name = input(\"Masukkan nama Anda: \")\n",
        "print(\"Halo,\", name)"
      ],
      "metadata": {
        "colab": {
          "base_uri": "https://localhost:8080/"
        },
        "id": "_aHwo7PO5_Py",
        "outputId": "2b75e186-be8b-4c6b-b693-bdd544b517c2"
      },
      "execution_count": 36,
      "outputs": [
        {
          "output_type": "stream",
          "name": "stdout",
          "text": [
            "Masukkan nama Anda: kevin\n",
            "Halo, kevin\n"
          ]
        }
      ]
    },
    {
      "cell_type": "markdown",
      "source": [
        "# Range statement"
      ],
      "metadata": {
        "id": "iLr4dz_Y6c0-"
      }
    },
    {
      "cell_type": "code",
      "source": [
        "numbers = list(range(10))\n",
        "print(numbers)"
      ],
      "metadata": {
        "colab": {
          "base_uri": "https://localhost:8080/"
        },
        "id": "wTTNGGkc6g7T",
        "outputId": "cf677d78-8a63-43d6-d07a-9f1d6c971546"
      },
      "execution_count": 37,
      "outputs": [
        {
          "output_type": "stream",
          "name": "stdout",
          "text": [
            "[0, 1, 2, 3, 4, 5, 6, 7, 8, 9]\n"
          ]
        }
      ]
    },
    {
      "cell_type": "markdown",
      "source": [
        "# Percabangan pada python"
      ],
      "metadata": {
        "id": "gjAa1f1f7AcI"
      }
    },
    {
      "cell_type": "code",
      "source": [
        "x = 10\n",
        "if x > 5 :\n",
        "  print(\"x lebih besar dari 5\")"
      ],
      "metadata": {
        "colab": {
          "base_uri": "https://localhost:8080/"
        },
        "id": "L_cxqNTV7DXt",
        "outputId": "9c2c82b3-a85d-40b3-d86d-ef82457f59c6"
      },
      "execution_count": 39,
      "outputs": [
        {
          "output_type": "stream",
          "name": "stdout",
          "text": [
            "x lebih besar dari 5\n"
          ]
        }
      ]
    },
    {
      "cell_type": "markdown",
      "source": [
        "# percabangan `if-else`"
      ],
      "metadata": {
        "id": "9SUvt5vi7jpU"
      }
    },
    {
      "cell_type": "code",
      "source": [
        "x = 10\n",
        "if x < 5 :\n",
        "  print(\"x kurang dari 5\")\n",
        "else:\n",
        "  print(\"x lebih besar atau sama dengan 5\")"
      ],
      "metadata": {
        "colab": {
          "base_uri": "https://localhost:8080/"
        },
        "id": "mrJ7eeB77nNm",
        "outputId": "84ab6b62-ccee-4bdd-8c61-a09f2dafe694"
      },
      "execution_count": 40,
      "outputs": [
        {
          "output_type": "stream",
          "name": "stdout",
          "text": [
            "x lebih besar atau sama dengan 5\n"
          ]
        }
      ]
    },
    {
      "cell_type": "markdown",
      "source": [
        "# Perulangan"
      ],
      "metadata": {
        "id": "Huutt8Ar8TQt"
      }
    },
    {
      "cell_type": "code",
      "source": [
        "count = 1\n",
        "while count <= 3 :\n",
        "  print(count, end=' ')\n",
        "  count += 1"
      ],
      "metadata": {
        "colab": {
          "base_uri": "https://localhost:8080/"
        },
        "id": "rM3b6QXl8Wky",
        "outputId": "2551e46d-b426-45ea-b12e-9e92f8980b58"
      },
      "execution_count": 41,
      "outputs": [
        {
          "output_type": "stream",
          "name": "stdout",
          "text": [
            "1 2 3 "
          ]
        }
      ]
    },
    {
      "cell_type": "markdown",
      "source": [
        "# Perulangan for"
      ],
      "metadata": {
        "id": "AfXe5UzY89m6"
      }
    },
    {
      "cell_type": "code",
      "source": [
        "fruits = [\"apple\", \"banana\", \"cherry\"]\n",
        "for fruit in fruits :\n",
        "  print(fruit)"
      ],
      "metadata": {
        "colab": {
          "base_uri": "https://localhost:8080/"
        },
        "id": "0ZL4XVFf9AVR",
        "outputId": "cd1cef41-f84a-498c-fda1-cd6a6054d3c0"
      },
      "execution_count": 43,
      "outputs": [
        {
          "output_type": "stream",
          "name": "stdout",
          "text": [
            "apple\n",
            "banana\n",
            "cherry\n"
          ]
        }
      ]
    },
    {
      "cell_type": "markdown",
      "source": [
        "# Fungsi"
      ],
      "metadata": {
        "id": "ommkhSYF9llH"
      }
    },
    {
      "cell_type": "code",
      "source": [
        "def hello_world():\n",
        "    print(\"Hello, World!\")\n",
        "    # memanggil fungsi\n",
        "    hello_world()"
      ],
      "metadata": {
        "id": "70ZzrUrd9or_"
      },
      "execution_count": 54,
      "outputs": []
    },
    {
      "cell_type": "markdown",
      "source": [
        "# Parameter dan argumen pada fungsi"
      ],
      "metadata": {
        "id": "6clfjtMx-UQC"
      }
    },
    {
      "cell_type": "code",
      "source": [
        "def substract(x,y): # x dan ya adalah parameter\n",
        "  return x -y\n",
        "  result = substract(10, 3) # 10 dan 3 adalah argument\n",
        "  print(result)"
      ],
      "metadata": {
        "id": "FiJjvXjR-bt-"
      },
      "execution_count": 55,
      "outputs": []
    },
    {
      "cell_type": "markdown",
      "source": [
        "# Fungsi anonim"
      ],
      "metadata": {
        "id": "myjT-LjS-q5t"
      }
    },
    {
      "cell_type": "code",
      "source": [
        "# fungsi lambda untuk menambahkan dua angka\n",
        "add = lambda x, y: x + y\n",
        "print(add(3,4))"
      ],
      "metadata": {
        "id": "kDuK-BRd-uPh"
      },
      "execution_count": 57,
      "outputs": []
    }
  ]
}