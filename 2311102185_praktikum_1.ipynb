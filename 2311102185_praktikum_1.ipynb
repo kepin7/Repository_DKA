{
  "nbformat": 4,
  "nbformat_minor": 0,
  "metadata": {
    "colab": {
      "provenance": [],
      "toc_visible": true,
      "authorship_tag": "ABX9TyN7hK3EAKCFOyOrAsFYpSFd",
      "include_colab_link": true
    },
    "kernelspec": {
      "name": "python3",
      "display_name": "Python 3"
    },
    "language_info": {
      "name": "python"
    }
  },
  "cells": [
    {
      "cell_type": "markdown",
      "metadata": {
        "id": "view-in-github",
        "colab_type": "text"
      },
      "source": [
        "<a href=\"https://colab.research.google.com/github/kepin7/Repository_DKA/blob/main/2311102185_praktikum_1.ipynb\" target=\"_parent\"><img src=\"https://colab.research.google.com/assets/colab-badge.svg\" alt=\"Open In Colab\"/></a>"
      ]
    },
    {
      "cell_type": "markdown",
      "source": [
        "## Operasi dasar"
      ],
      "metadata": {
        "id": "d4Orc4j8K4pq"
      }
    },
    {
      "cell_type": "code",
      "execution_count": null,
      "metadata": {
        "colab": {
          "base_uri": "https://localhost:8080/"
        },
        "id": "CgMXRDL8w4Su",
        "outputId": "9a5d73d7-e319-4f54-f7be-b5ccaef1ac4b"
      },
      "outputs": [
        {
          "output_type": "stream",
          "name": "stdout",
          "text": [
            "Hello World!\n"
          ]
        }
      ],
      "source": [
        "print(\"Hello World!\")"
      ]
    },
    {
      "cell_type": "code",
      "source": [
        "2 + 2"
      ],
      "metadata": {
        "colab": {
          "base_uri": "https://localhost:8080/"
        },
        "id": "HcQRbjqEyxKk",
        "outputId": "8c0952e8-c5eb-46ee-b485-f07fdb1666fc"
      },
      "execution_count": null,
      "outputs": [
        {
          "output_type": "execute_result",
          "data": {
            "text/plain": [
              "4"
            ]
          },
          "metadata": {},
          "execution_count": 3
        }
      ]
    },
    {
      "cell_type": "code",
      "source": [
        "10 // 5"
      ],
      "metadata": {
        "colab": {
          "base_uri": "https://localhost:8080/"
        },
        "id": "AlWr9CVjzHCR",
        "outputId": "147263b8-7a16-4a01-f84d-90238d64ab11"
      },
      "execution_count": null,
      "outputs": [
        {
          "output_type": "execute_result",
          "data": {
            "text/plain": [
              "2"
            ]
          },
          "metadata": {},
          "execution_count": 4
        }
      ]
    },
    {
      "cell_type": "code",
      "source": [
        "10 - 5"
      ],
      "metadata": {
        "colab": {
          "base_uri": "https://localhost:8080/"
        },
        "id": "xNuLQcnAzNFi",
        "outputId": "909c3b11-5134-4849-8cb8-f22649abfb6b"
      },
      "execution_count": null,
      "outputs": [
        {
          "output_type": "execute_result",
          "data": {
            "text/plain": [
              "5"
            ]
          },
          "metadata": {},
          "execution_count": 5
        }
      ]
    },
    {
      "cell_type": "code",
      "source": [
        "15 // 4"
      ],
      "metadata": {
        "colab": {
          "base_uri": "https://localhost:8080/"
        },
        "id": "A0c_EyTMzR-D",
        "outputId": "4247b27b-385b-437b-c1cb-68a33f27a0c3"
      },
      "execution_count": null,
      "outputs": [
        {
          "output_type": "execute_result",
          "data": {
            "text/plain": [
              "3"
            ]
          },
          "metadata": {},
          "execution_count": 6
        }
      ]
    },
    {
      "cell_type": "code",
      "source": [
        "(3 + 2) * 5"
      ],
      "metadata": {
        "colab": {
          "base_uri": "https://localhost:8080/"
        },
        "id": "JKV8LE5IzWtq",
        "outputId": "d9c44a0f-7c3b-4462-99b4-f55386b01e5f"
      },
      "execution_count": null,
      "outputs": [
        {
          "output_type": "execute_result",
          "data": {
            "text/plain": [
              "25"
            ]
          },
          "metadata": {},
          "execution_count": 1
        }
      ]
    },
    {
      "cell_type": "markdown",
      "source": [
        "# Tipe data string"
      ],
      "metadata": {
        "id": "j3cjiS4EL50F"
      }
    },
    {
      "cell_type": "code",
      "source": [
        "str = \"Hello, world!\"\n",
        "print(str)"
      ],
      "metadata": {
        "colab": {
          "base_uri": "https://localhost:8080/"
        },
        "id": "k692ZbLAzj0C",
        "outputId": "7dde31d5-4cde-47da-fc71-7818238d43e4"
      },
      "execution_count": null,
      "outputs": [
        {
          "output_type": "stream",
          "name": "stdout",
          "text": [
            "Hello, world!\n"
          ]
        }
      ]
    },
    {
      "cell_type": "markdown",
      "source": [
        "Penggabungan"
      ],
      "metadata": {
        "id": "Ub6DpWRtz_Wy"
      }
    },
    {
      "cell_type": "code",
      "source": [
        "str1 = \"Hello\"\n",
        "str2 = \"World\"\n",
        "result = str1 + \" \" + str2\n",
        "print(result)"
      ],
      "metadata": {
        "colab": {
          "base_uri": "https://localhost:8080/"
        },
        "id": "FV8F3teozwpA",
        "outputId": "b8c172e1-8831-4b3e-aade-e77be776e72f"
      },
      "execution_count": null,
      "outputs": [
        {
          "output_type": "stream",
          "name": "stdout",
          "text": [
            "Hello World\n"
          ]
        }
      ]
    },
    {
      "cell_type": "markdown",
      "source": [
        "Perulangan"
      ],
      "metadata": {
        "id": "chz-XFEL0EC_"
      }
    },
    {
      "cell_type": "code",
      "source": [
        "str = \"Hello\"\n",
        "result = str * 3\n",
        "print(result)"
      ],
      "metadata": {
        "colab": {
          "base_uri": "https://localhost:8080/"
        },
        "id": "4n72Q8yz0OVq",
        "outputId": "3fb8c012-72fe-4ebf-d17e-23da012babf4"
      },
      "execution_count": null,
      "outputs": [
        {
          "output_type": "stream",
          "name": "stdout",
          "text": [
            "HelloHelloHello\n"
          ]
        }
      ]
    },
    {
      "cell_type": "markdown",
      "source": [
        "Mengakses karakter"
      ],
      "metadata": {
        "id": "jFuolIL00_1V"
      }
    },
    {
      "cell_type": "code",
      "source": [
        "str = \"DKA\"\n",
        "first_char = str[0] #indeks dimulai dari 0\n",
        "last_chart = str[-1] #indeks -1 adalah indeks terakhir\n",
        "print(first_char, last_chart)"
      ],
      "metadata": {
        "colab": {
          "base_uri": "https://localhost:8080/"
        },
        "id": "-DSdqC5F1DJS",
        "outputId": "6a5e13c4-dc2d-4b84-ee27-50fca5c4b5fd"
      },
      "execution_count": null,
      "outputs": [
        {
          "output_type": "stream",
          "name": "stdout",
          "text": [
            "D A\n"
          ]
        }
      ]
    },
    {
      "cell_type": "markdown",
      "source": [
        "# Tipe data list"
      ],
      "metadata": {
        "id": "uGF65_9E2Z3s"
      }
    },
    {
      "cell_type": "code",
      "source": [
        "list_of_numbers = [1, 3, 5, 10]\n",
        "print(list_of_numbers)"
      ],
      "metadata": {
        "colab": {
          "base_uri": "https://localhost:8080/"
        },
        "id": "VHc14iD22dGp",
        "outputId": "157f4856-9d42-49d1-8d08-693feadd10ff"
      },
      "execution_count": null,
      "outputs": [
        {
          "output_type": "stream",
          "name": "stdout",
          "text": [
            "[1, 3, 5, 10]\n"
          ]
        }
      ]
    },
    {
      "cell_type": "code",
      "source": [
        "list_of_strings = [\"dasar\", \"kecerdasan\", \"artifisial\"]\n",
        "print(list_of_strings)"
      ],
      "metadata": {
        "colab": {
          "base_uri": "https://localhost:8080/"
        },
        "id": "v9YBhMHy3Fx8",
        "outputId": "81a21893-4757-41b8-9f7d-09a94ccf4fe3"
      },
      "execution_count": null,
      "outputs": [
        {
          "output_type": "stream",
          "name": "stdout",
          "text": [
            "['dasar', 'kecerdasan', 'artifisial']\n"
          ]
        }
      ]
    },
    {
      "cell_type": "markdown",
      "source": [
        "# Tipe data dictionary"
      ],
      "metadata": {
        "id": "0eB42Fiw3if_"
      }
    },
    {
      "cell_type": "code",
      "source": [
        "my_dict = {\n",
        "    \"nama\": \"Kevin\",\n",
        "    \"umur\": 20,\n",
        "    \"kota\": \"Purwokerto\",\n",
        "    \"universitas\": \"Telkom University\"\n",
        "}\n",
        "print(my_dict[\"nama\"])\n",
        "print(my_dict[\"kota\"])"
      ],
      "metadata": {
        "colab": {
          "base_uri": "https://localhost:8080/"
        },
        "id": "15rEFjnP3mTF",
        "outputId": "be56ed3e-cec4-41f1-cbb0-a3db3305d343"
      },
      "execution_count": null,
      "outputs": [
        {
          "output_type": "stream",
          "name": "stdout",
          "text": [
            "Kevin\n",
            "Purwokerto\n"
          ]
        }
      ]
    },
    {
      "cell_type": "markdown",
      "source": [
        "# Tipe data set"
      ],
      "metadata": {
        "id": "u6kNF2sX4taJ"
      }
    },
    {
      "cell_type": "code",
      "source": [
        "# membuat set kosong\n",
        "my_set = set()\n",
        "\n",
        "#  set dengan beberapa elemen\n",
        "my_set = {1, 2, 3, \"apple\", 3.14}\n",
        "print(my_set)"
      ],
      "metadata": {
        "colab": {
          "base_uri": "https://localhost:8080/"
        },
        "id": "WNTA04at4wUE",
        "outputId": "f9c5f7f4-c544-48d4-950a-35ee35334428"
      },
      "execution_count": null,
      "outputs": [
        {
          "output_type": "stream",
          "name": "stdout",
          "text": [
            "{1, 2, 3, 3.14, 'apple'}\n"
          ]
        }
      ]
    },
    {
      "cell_type": "markdown",
      "source": [
        "# Tipe data boolean"
      ],
      "metadata": {
        "id": "VJpqaQ9q5oOU"
      }
    },
    {
      "cell_type": "code",
      "source": [
        "is_student = True\n",
        "informatics_student = False\n",
        "print(is_student, informatics_student)"
      ],
      "metadata": {
        "colab": {
          "base_uri": "https://localhost:8080/"
        },
        "id": "F28TQyHz5r-g",
        "outputId": "7b5c817b-978b-4221-8fa6-e23ca43efb43"
      },
      "execution_count": null,
      "outputs": [
        {
          "output_type": "stream",
          "name": "stdout",
          "text": [
            "True False\n"
          ]
        }
      ]
    },
    {
      "cell_type": "markdown",
      "source": [
        "# Input dan output pada python"
      ],
      "metadata": {
        "id": "fsgRTx-x56EM"
      }
    },
    {
      "cell_type": "code",
      "source": [
        "name = input(\"Masukkan nama Anda: \")\n",
        "print(\"Halo,\", name)"
      ],
      "metadata": {
        "id": "_aHwo7PO5_Py",
        "colab": {
          "base_uri": "https://localhost:8080/"
        },
        "outputId": "4012f9e8-8b73-4395-abb7-f5df1d2946dd"
      },
      "execution_count": null,
      "outputs": [
        {
          "output_type": "stream",
          "name": "stdout",
          "text": [
            "Masukkan nama Anda: Kevin\n",
            "Halo, Kevin\n"
          ]
        }
      ]
    },
    {
      "cell_type": "markdown",
      "source": [
        "# Range statement"
      ],
      "metadata": {
        "id": "iLr4dz_Y6c0-"
      }
    },
    {
      "cell_type": "code",
      "source": [
        "numbers = list(range(10))\n",
        "print(numbers)"
      ],
      "metadata": {
        "id": "wTTNGGkc6g7T",
        "colab": {
          "base_uri": "https://localhost:8080/"
        },
        "outputId": "6e3b40b1-fb31-4004-e569-5b0d78b79fea"
      },
      "execution_count": null,
      "outputs": [
        {
          "metadata": {
            "tags": null
          },
          "name": "stdout",
          "output_type": "stream",
          "text": [
            "[0, 1, 2, 3, 4, 5, 6, 7, 8, 9]\n"
          ]
        }
      ]
    },
    {
      "cell_type": "markdown",
      "source": [
        "# Percabangan pada python"
      ],
      "metadata": {
        "id": "gjAa1f1f7AcI"
      }
    },
    {
      "cell_type": "code",
      "source": [
        "x = 10\n",
        "if x > 5 :\n",
        "  print(\"x lebih besar dari 5\")"
      ],
      "metadata": {
        "id": "L_cxqNTV7DXt",
        "colab": {
          "base_uri": "https://localhost:8080/"
        },
        "outputId": "b9f13ae1-70e2-40b3-9e49-c73012e3fb93"
      },
      "execution_count": null,
      "outputs": [
        {
          "metadata": {
            "tags": null
          },
          "name": "stdout",
          "output_type": "stream",
          "text": [
            "x lebih besar dari 5\n"
          ]
        }
      ]
    },
    {
      "cell_type": "markdown",
      "source": [
        "# percabangan `if-else`"
      ],
      "metadata": {
        "id": "9SUvt5vi7jpU"
      }
    },
    {
      "cell_type": "code",
      "source": [
        "x = 10\n",
        "if x < 5 :\n",
        "  print(\"x kurang dari 5\")\n",
        "else:\n",
        "  print(\"x lebih besar atau sama dengan 5\")"
      ],
      "metadata": {
        "id": "mrJ7eeB77nNm",
        "colab": {
          "base_uri": "https://localhost:8080/"
        },
        "outputId": "bee7efdc-f605-4bf8-d068-cf6d1ca11c54"
      },
      "execution_count": null,
      "outputs": [
        {
          "metadata": {
            "tags": null
          },
          "name": "stdout",
          "output_type": "stream",
          "text": [
            "x lebih besar atau sama dengan 5\n"
          ]
        }
      ]
    },
    {
      "cell_type": "markdown",
      "source": [
        "# Perulangan"
      ],
      "metadata": {
        "id": "Huutt8Ar8TQt"
      }
    },
    {
      "cell_type": "code",
      "source": [
        "count = 1\n",
        "while count <= 3 :\n",
        "  print(count, end=' ')\n",
        "  count += 1"
      ],
      "metadata": {
        "id": "rM3b6QXl8Wky",
        "colab": {
          "base_uri": "https://localhost:8080/"
        },
        "outputId": "27616dac-601c-4d34-b526-cb3a119021fc"
      },
      "execution_count": null,
      "outputs": [
        {
          "metadata": {
            "tags": null
          },
          "name": "stdout",
          "output_type": "stream",
          "text": [
            "1 2 3 "
          ]
        }
      ]
    },
    {
      "cell_type": "markdown",
      "source": [
        "# Perulangan for"
      ],
      "metadata": {
        "id": "AfXe5UzY89m6"
      }
    },
    {
      "cell_type": "code",
      "source": [
        "fruits = [\"apple\", \"banana\", \"cherry\"]\n",
        "for fruit in fruits :\n",
        "  print(fruit)"
      ],
      "metadata": {
        "id": "0ZL4XVFf9AVR",
        "colab": {
          "base_uri": "https://localhost:8080/"
        },
        "outputId": "a464ab8b-d363-481c-ac51-c8e2154141c1"
      },
      "execution_count": null,
      "outputs": [
        {
          "output_type": "stream",
          "name": "stdout",
          "text": [
            "apple\n",
            "banana\n",
            "cherry\n"
          ]
        }
      ]
    },
    {
      "cell_type": "markdown",
      "source": [
        "# Fungsi"
      ],
      "metadata": {
        "id": "ommkhSYF9llH"
      }
    },
    {
      "cell_type": "code",
      "source": [
        "def hello_world():\n",
        "    print(\"Hello, World!\")\n",
        "    # memanggil fungsi\n",
        "    hello_world()"
      ],
      "metadata": {
        "id": "70ZzrUrd9or_"
      },
      "execution_count": null,
      "outputs": []
    },
    {
      "cell_type": "markdown",
      "source": [
        "# Parameter dan argumen pada fungsi"
      ],
      "metadata": {
        "id": "6clfjtMx-UQC"
      }
    },
    {
      "cell_type": "code",
      "source": [
        "def substract(x,y): # x dan ya adalah parameter\n",
        "  return x -y\n",
        "  result = substract(10, 3) # 10 dan 3 adalah argument\n",
        "  print(result)"
      ],
      "metadata": {
        "id": "FiJjvXjR-bt-"
      },
      "execution_count": null,
      "outputs": []
    },
    {
      "cell_type": "markdown",
      "source": [
        "# Fungsi anonim"
      ],
      "metadata": {
        "id": "myjT-LjS-q5t"
      }
    },
    {
      "cell_type": "code",
      "source": [
        "# fungsi lambda untuk menambahkan dua angka\n",
        "add = lambda x, y: x + y\n",
        "print(add(3,4))"
      ],
      "metadata": {
        "id": "kDuK-BRd-uPh",
        "colab": {
          "base_uri": "https://localhost:8080/"
        },
        "outputId": "bc67e3e1-a606-461b-eae0-dc243e2940d6"
      },
      "execution_count": null,
      "outputs": [
        {
          "output_type": "stream",
          "name": "stdout",
          "text": [
            "7\n"
          ]
        }
      ]
    },
    {
      "cell_type": "markdown",
      "source": [
        "# Modular"
      ],
      "metadata": {
        "id": "_4jZB1HKVXgS"
      }
    },
    {
      "cell_type": "code",
      "source": [
        "def tambah(a, b):\n",
        "  return a + b"
      ],
      "metadata": {
        "id": "jrj1T6HtViWc"
      },
      "execution_count": null,
      "outputs": []
    },
    {
      "cell_type": "code",
      "source": [
        "import matematika # Import seluruh fungsi dalam matematika.py\n",
        "# Menggunakan fungsi dari matematika.py\n",
        "hasil_tambah = matematika.tambah(5, 3)\n",
        "hasil_kali = matematika.kali(4, 2)\n",
        "print(\"Hasil tambah:\", hasil_tambah)\n",
        "print(\"Hasil kali:\", hasil_kali)"
      ],
      "metadata": {
        "id": "pbeUbpD-V19-"
      },
      "execution_count": null,
      "outputs": []
    }
  ]
}