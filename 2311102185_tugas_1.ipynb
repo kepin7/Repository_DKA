{
  "cells": [
    {
      "cell_type": "markdown",
      "metadata": {
        "id": "view-in-github",
        "colab_type": "text"
      },
      "source": [
        "<a href=\"https://colab.research.google.com/github/kepin7/Repository_DKA/blob/main/2311102185_tugas_1.ipynb\" target=\"_parent\"><img src=\"https://colab.research.google.com/assets/colab-badge.svg\" alt=\"Open In Colab\"/></a>"
      ]
    },
    {
      "cell_type": "markdown",
      "metadata": {
        "id": "TDrCnDuMvwzW"
      },
      "source": [
        "<div align=\"center\">\n",
        "<h1>Praktikum Dasar Kecerdasan Artifisial</h1>\n",
        "<h3>Modul 1: Pengenalan Python</h3>\n",
        "</div>"
      ]
    },
    {
      "cell_type": "markdown",
      "metadata": {
        "id": "5kbRIEEgwhHj"
      },
      "source": [
        "1. Buatlah fungsi (function) isKabisat dalam Python, yaitu fungsi untuk menentukan\n",
        "apakah suatu bilangan tahun merupakan tahun kabisat atau bukan. Input dari\n",
        "fungsi ini adalah integer (bilangan tahun), output dari fungsi ini adalah boolean\n",
        "(`True` bila kabisat, `False` bila bukan kabisat). Selanjutnya panggil fungsi\n",
        "tersebut dan periksa hasilnya."
      ]
    },
    {
      "cell_type": "code",
      "execution_count": null,
      "metadata": {
        "colab": {
          "base_uri": "https://localhost:8080/"
        },
        "id": "8bwwo128vvO9",
        "outputId": "df7f2864-2497-4e8f-ed9d-a4f84f61fc5a"
      },
      "outputs": [
        {
          "output_type": "stream",
          "name": "stdout",
          "text": [
            "Masukkan tahun: 2025\n",
            "2025 adalah tahun kabisat: False\n"
          ]
        }
      ],
      "source": [
        "def isKabisat(tahun):\n",
        "    return tahun % 4 == 0 and (tahun % 100 != 0 or tahun % 400 == 0)\n",
        "\n",
        "tahun = int(input(\"Masukkan tahun: \"))\n",
        "print(f\"{tahun} adalah tahun kabisat: {isKabisat(tahun)}\")"
      ]
    },
    {
      "cell_type": "markdown",
      "metadata": {
        "id": "-TcZSM0kxv6s"
      },
      "source": [
        "### Penjelasan Kode"
      ]
    },
    {
      "cell_type": "markdown",
      "metadata": {
        "id": "b95pDj_cxQxo"
      },
      "source": [
        "Fungsi isKabisat(tahun) menerima satu parameter tahun dan mengembalikan nilai boolean (True jika tahun tersebut kabisat, dan False jika tidak). Logika dalam fungsi ini menggunakan aturan tahun kabisat: sebuah tahun dikatakan kabisat jika habis dibagi 4, tetapi jika tahun tersebut juga habis dibagi 100, maka harus habis dibagi 400 agar tetap dianggap sebagai tahun kabisat. Setelah mendefinisikan fungsi, program meminta pengguna untuk memasukkan tahun dalam bentuk bilangan bulat menggunakan input(), yang kemudian dikonversi ke int. Selanjutnya, program mencetak hasil pengecekan dengan menampilkan apakah tahun yang dimasukkan adalah tahun kabisat atau bukan, menggunakan format string (f\"{tahun} adalah tahun kabisat: {isKabisat(tahun)}\").\n",
        "\n",
        "------------------------------------------------------------------------"
      ]
    },
    {
      "cell_type": "markdown",
      "metadata": {
        "id": "5kqO4RrAwp38"
      },
      "source": [
        "2. Buatlah sebuah fungsi dan sebuah prosedur untuk mencetak bilangan Fibonacci\n",
        "menggunakan Python! Untuk input `n`, maka fungsi ini mereturn angka Fibonacci\n",
        "ke-n, sedangkan prosedurnya akan mencetak barisan bilangan Fibonacci mulai dari\n",
        "suku ke 1 hingga suku ke n. Selanjutnya panggil fungsi dan prosedur tersebut dan\n",
        "periksa hasilnya."
      ]
    },
    {
      "cell_type": "code",
      "execution_count": null,
      "metadata": {
        "colab": {
          "base_uri": "https://localhost:8080/"
        },
        "id": "7xiha4GLw6oe",
        "outputId": "2c06d731-a24b-47e8-9094-f95739e02f75"
      },
      "outputs": [
        {
          "output_type": "stream",
          "name": "stdout",
          "text": [
            "Masukkan nilai n: 3\n",
            "Bilangan Fibonacci ke-3: 2\n",
            "Barisan Fibonacci:\n",
            "Fibonacci suku ke-1: 1\n",
            "Fibonacci suku ke-2: 1\n",
            "Fibonacci suku ke-3: 2\n"
          ]
        }
      ],
      "source": [
        "def fibonacci(n):\n",
        "    if n <= 0:\n",
        "        return \"Bilangan harus positif\"\n",
        "    elif n == 1:\n",
        "        return 1\n",
        "\n",
        "    a, b = 0, 1\n",
        "    for count in range(2, n + 1):\n",
        "        a, b = b, a + b\n",
        "    return b\n",
        "\n",
        "def cetak_fibonacci(n):\n",
        "    if n <= 0:\n",
        "        return\n",
        "\n",
        "    a, b = 0, 1\n",
        "    print(\"Barisan Fibonacci:\")\n",
        "    for count in range(1, n + 1):\n",
        "        print(f\"Fibonacci suku ke-{count}: {b}\")\n",
        "        a, b = b, a + b\n",
        "\n",
        "n = int(input(\"Masukkan nilai n: \"))\n",
        "print(f\"Bilangan Fibonacci ke-{n}: {fibonacci(n)}\")\n",
        "cetak_fibonacci(n)"
      ]
    },
    {
      "cell_type": "markdown",
      "metadata": {
        "id": "6htDT6gjxpVb"
      },
      "source": [
        "### Penjelasan Kode"
      ]
    },
    {
      "cell_type": "markdown",
      "metadata": {
        "id": "N4xD9ANPx4Ek"
      },
      "source": [
        "Fungsi fibonacci(n) menghitung bilangan Fibonacci ke-n dengan menggunakan pendekatan iteratif. Jika n kurang dari atau sama dengan nol, fungsi akan mengembalikan pesan bahwa bilangan harus positif. Jika n == 1, fungsi langsung mengembalikan 1. Untuk nilai n yang lebih besar, dua variabel (a dan b) digunakan untuk menyimpan dua bilangan Fibonacci terakhir dalam iterasi, dengan b sebagai hasil akhir. Fungsi cetak_fibonacci(n) mencetak seluruh barisan Fibonacci hingga suku ke-n, dengan struktur iteratif yang mirip, tetapi menampilkan setiap suku dalam format fibonacchi suku ke-x: y. Program utama meminta pengguna memasukkan nilai n, lalu mencetak bilangan Fibonacci ke-n menggunakan fibonacci(n), dan menampilkan seluruh barisan hingga suku ke-n dengan cetak_fibonacci(n)."
      ]
    }
  ],
  "metadata": {
    "colab": {
      "toc_visible": true,
      "provenance": [],
      "authorship_tag": "ABX9TyM2fXDwHRAo9+Kif3aHYC9u",
      "include_colab_link": true
    },
    "kernelspec": {
      "display_name": "Python 3",
      "name": "python3"
    },
    "language_info": {
      "name": "python"
    }
  },
  "nbformat": 4,
  "nbformat_minor": 0
}