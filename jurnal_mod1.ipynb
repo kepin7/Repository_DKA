{
  "cells": [
    {
      "cell_type": "markdown",
      "metadata": {
        "id": "view-in-github",
        "colab_type": "text"
      },
      "source": [
        "<a href=\"https://colab.research.google.com/github/kepin7/Repository_DKA/blob/main/jurnal_mod1.ipynb\" target=\"_parent\"><img src=\"https://colab.research.google.com/assets/colab-badge.svg\" alt=\"Open In Colab\"/></a>"
      ]
    },
    {
      "cell_type": "markdown",
      "metadata": {
        "id": "w4uPDWDW_YmE"
      },
      "source": [
        "<div align=\"center\">\n",
        "<h1>Jurnal Praktikum Dasar Kecerdasan Artifisial</h1>\n",
        "<h3>Modul 1: Pengenalan Python</h3>\n",
        "</div>"
      ]
    },
    {
      "cell_type": "markdown",
      "metadata": {
        "id": "0rOhW7sp_YmF"
      },
      "source": [
        "### Tujuan Praktikum\n",
        "- Mahasiswa mengetahui instalasi dan *working environment* pada Python (menggunakan Terminal dan *Jupyter Notebook*)\n",
        "- Mahasiswa memahamai cara pembuatan program dengan Python\n",
        "- Mahasiswa mengetahui fitur-fitur utama yang tersedia pada Python"
      ]
    },
    {
      "cell_type": "markdown",
      "metadata": {
        "id": "FcMKscbI_YmF"
      },
      "source": [
        "### 1. Program Sederhana dengan Python (Bobot Nilai: `5`)"
      ]
    },
    {
      "cell_type": "markdown",
      "metadata": {
        "id": "RDd1UxUh_YmF"
      },
      "source": [
        "**a.** Buat program yang menampilkan kata \"Hello, World!\" pada terminal dengan menggunakan `print()`"
      ]
    },
    {
      "cell_type": "code",
      "execution_count": null,
      "metadata": {
        "colab": {
          "base_uri": "https://localhost:8080/"
        },
        "id": "04TASp1a_YmG",
        "outputId": "e22cd7b8-9f3b-4975-dfd6-e739399fda11"
      },
      "outputs": [
        {
          "output_type": "stream",
          "name": "stdout",
          "text": [
            "Hello, World!\n"
          ]
        }
      ],
      "source": [
        "print(\"Hello, World!\") # Ganti nilai None dengan nilai yang sesuai"
      ]
    },
    {
      "cell_type": "markdown",
      "metadata": {
        "id": "MJBpHlu1_YmG"
      },
      "source": [
        "*Test case* program\n",
        "\n",
        "|**Input**|**Output**    |\n",
        "|---------|--------------|\n",
        "|         |'Hello, World!'|"
      ]
    },
    {
      "cell_type": "markdown",
      "metadata": {
        "id": "IES5B8QT_YmG"
      },
      "source": [
        "**b.** Isi variabel rasio dengan akar dari 9 $(\\sqrt{9})$.\n",
        "Tip: untuk menghitung akar pangkat 2 dari $x$, dapat menggunakan x**(1/2)"
      ]
    },
    {
      "cell_type": "code",
      "execution_count": null,
      "metadata": {
        "colab": {
          "base_uri": "https://localhost:8080/"
        },
        "id": "XYWYevGB_YmG",
        "outputId": "fb585879-5d44-4f2f-ed58-6af19bb7e85b"
      },
      "outputs": [
        {
          "output_type": "stream",
          "name": "stdout",
          "text": [
            "3.0\n"
          ]
        }
      ],
      "source": [
        "akar_sembilan = 9**(1/2) # Ganti nilai None dengan nilai yang sesuai\n",
        "print(akar_sembilan)"
      ]
    },
    {
      "cell_type": "markdown",
      "metadata": {
        "id": "ejR0FuiB_YmH"
      },
      "source": [
        "*Test case* program\n",
        "\n",
        "|**Input**|**Output**    |\n",
        "|---------|--------------|\n",
        "|         |'3.0'|"
      ]
    },
    {
      "cell_type": "markdown",
      "metadata": {
        "id": "NCcmSceb_YmH"
      },
      "source": [
        "**c.** Program di bawah ini menghitung nilai dari persamaan kuadrat $20x^2 + 25x + 30$ dengan meminta *input* dari pengguan untuk variabel $x$. Minta *input* pada pengguna dengan deskripsi `\"Masukkan nilai x: \"`, kemudian ubah variabel `x` menjadi `float`"
      ]
    },
    {
      "cell_type": "code",
      "execution_count": null,
      "metadata": {
        "colab": {
          "base_uri": "https://localhost:8080/"
        },
        "id": "_ibZ2-6Q_YmH",
        "outputId": "a60a020b-92e1-4083-f186-49bd38fa49c1"
      },
      "outputs": [
        {
          "output_type": "stream",
          "name": "stdout",
          "text": [
            "Masukkan nilai x: 3\n",
            "285.0\n"
          ]
        }
      ],
      "source": [
        "x = input(\"Masukkan nilai x: \") # Minta input user dengan deskripsi yang sesuai\n",
        "x = float(x) # Ubah tipe data x menjadi float\n",
        "\n",
        "hasil_persamaan = 20*x**2 + 25*x + 30\n",
        "print(hasil_persamaan)"
      ]
    },
    {
      "cell_type": "markdown",
      "metadata": {
        "id": "M550Y20i_YmH"
      },
      "source": [
        "*Test case* program\n",
        "\n",
        "|**Input**|**Output**    |\n",
        "|---------|--------------|\n",
        "|Masukkan nilai x: `3` |'285'|\n",
        "|Masukkan nilai x: `4` |'450'|\n",
        "|Masukkan nilai x: `5`|'655'|"
      ]
    },
    {
      "cell_type": "markdown",
      "metadata": {
        "id": "aBleUgXr_YmH"
      },
      "source": [
        "### 2.  Pengkondisian dalam Python (Bobot Nilai: `10`)"
      ]
    },
    {
      "cell_type": "markdown",
      "metadata": {
        "id": "IVb71EqT_YmH"
      },
      "source": [
        "**a.** Buat program untuk mengecek apakah suatu bilangan ganjil atau genap. Jika bilangan tersebut ganjil maka tampilkan `\"Bilangan Ganjil\"` pada terminal, sedangkan jika bilangan tersebut genap maka tampilkan `\"Bilangan Genap\"` pada terminal. Minta *input* pada pengguna dengan deskripsi (tidak ada ketentuan khusus untuk deskripsi), kemudian ubah variabel yang menampung hasil *input* pengguna menjadi `.integer`"
      ]
    },
    {
      "cell_type": "code",
      "execution_count": null,
      "metadata": {
        "colab": {
          "base_uri": "https://localhost:8080/"
        },
        "id": "gjVrblCi_YmH",
        "outputId": "36f3a1c8-26b8-479e-e51a-84d207179f74"
      },
      "outputs": [
        {
          "output_type": "stream",
          "name": "stdout",
          "text": [
            "Masukkan nilai: 3\n",
            "Bilangan Ganjil\n"
          ]
        }
      ],
      "source": [
        "n = input(\"Masukkan nilai: \") # Minta input user dengan deskripsi yang sesuai\n",
        "n = int(n) # Ubah tipe data n menjadi integer\n",
        "\n",
        "if n % 2 == 0 : # Cek apakah x nilai genap\n",
        "    print(\"Bilangan Genap\")\n",
        "else:\n",
        "    print(\"Bilangan Ganjil\")"
      ]
    },
    {
      "cell_type": "markdown",
      "metadata": {
        "id": "xHKzZ8U6_YmI"
      },
      "source": [
        "*Test case* program\n",
        "\n",
        "|**Input**|**Output**    |\n",
        "|---------|--------------|\n",
        "|Masukkan nilai: `3` |'Bilangan Ganjil'|\n",
        "|Masukkan nilai: `4` |'Bilangan Genap'|\n",
        "|Masukkan nilai: `5`|'Bilangan Ganjil'|"
      ]
    },
    {
      "cell_type": "markdown",
      "metadata": {
        "id": "3Yc-LAyT_YmI"
      },
      "source": [
        "**b.** Buat program untuk meminta *input* nilai dari pengguna dalam rentang 0 hingga 100. Program tersebut menerima nilai dan menampilkan indeks huruf dari nilai tersebut pada terminal sesuai dengan kriteria berikut\n",
        "- **A**: 85 - 100\n",
        "- **B**: 70 - 84\n",
        "- **C**: 55 - 69\n",
        "- **D**: 40 - 54\n",
        "- **E**: 0 - 39"
      ]
    },
    {
      "cell_type": "code",
      "execution_count": null,
      "metadata": {
        "colab": {
          "base_uri": "https://localhost:8080/"
        },
        "id": "D_DvZzC6_YmI",
        "outputId": "d5f3436f-a427-4439-edda-bb3f96bc3275"
      },
      "outputs": [
        {
          "output_type": "stream",
          "name": "stdout",
          "text": [
            "Masukkan nilai user: 91\n",
            "A\n"
          ]
        }
      ],
      "source": [
        "nilai = input(\"Masukkan nilai user: \") # Minta input user dengan deskripsi yang sesuai\n",
        "nilai = float(nilai) # Ubah tipe data nilai menjadi float\n",
        "\n",
        "# Buat program di atas dengan menggunakan pengkondisian\n",
        "if nilai >= 85 and nilai <= 100:\n",
        "    print(\"A\")\n",
        "elif nilai >= 70 and nilai <= 84:\n",
        "    print(\"B\")\n",
        "elif nilai >= 55 and nilai <= 69:\n",
        "    print(\"C\")\n",
        "elif nilai >= 40 and nilai <= 54:\n",
        "    print(\"D\")\n",
        "elif nilai >= 0 and nilai <= 39:\n",
        "    print(\"E\")\n",
        "else:\n",
        "    print(\"Nilai tidak valid\")"
      ]
    },
    {
      "cell_type": "markdown",
      "metadata": {
        "id": "FtGvgg0a_YmI"
      },
      "source": [
        "*Test case* program\n",
        "\n",
        "|**Input**|**Output**    |\n",
        "|---------|--------------|\n",
        "|Masukkan nilai user: `91` |'A'|\n",
        "|Masukkan nilai user: `75` |'B'|\n",
        "|Masukkan nilai user: `42`|'D'|"
      ]
    },
    {
      "cell_type": "markdown",
      "metadata": {
        "id": "e_FhvoWW_YmI"
      },
      "source": [
        "### 3. Prosedur dan Fungsi (Bobot Nilai: `10`)"
      ]
    },
    {
      "cell_type": "markdown",
      "metadata": {
        "id": "e57sMc8v_YmI"
      },
      "source": [
        "**a.** Buatlah sebuah prosedur yang menerima parameter berupa nama. Jika nama yang diberikan adalah `\"Reza\"`, prosedur akan mencetak output `\"Selamat datang kembali, [nama]\"`. Jika nama yang diberikan bukan \"Reza\", prosedur akan mencetak output `\"Selamat datang, [nama]\"`. Sesuaikan output berdasarkan nama yang diterima oleh parameter."
      ]
    },
    {
      "cell_type": "code",
      "execution_count": null,
      "metadata": {
        "colab": {
          "base_uri": "https://localhost:8080/"
        },
        "id": "KtkicoHM_YmI",
        "outputId": "bad4f59c-42bc-4d28-97af-dc0df3e88756"
      },
      "outputs": [
        {
          "output_type": "stream",
          "name": "stdout",
          "text": [
            "Masukkan nama: Reza\n",
            "Selamat datang kembali, Reza\n"
          ]
        }
      ],
      "source": [
        "def greet_reza(nama):\n",
        "    if nama == \"Reza\":\n",
        "        print(\"Selamat datang kembali, \" + nama)\n",
        "    else:\n",
        "        print(\"Selamat datang, \" + nama)\n",
        "\n",
        "input_nama = input(\"Masukkan nama: \")  # Minta input user dengan deskripsi yang sesuai\n",
        "\n",
        "greet_reza(input_nama)  # Panggil prosedur `greet_reza()` dengan parameter yang sesuai"
      ]
    },
    {
      "cell_type": "markdown",
      "metadata": {
        "id": "0FC5dbM0_YmI"
      },
      "source": [
        "*Test case* program\n",
        "\n",
        "|**Input**|**Output**    |\n",
        "|---------|--------------|\n",
        "|Masukkan nama: `Afeef` |'Selamat datang, Afeef'|\n",
        "|Masukkan nama: `Reza` |'Selamat datang kembali, Reza'|\n",
        "|Masukkan nama: `Tiara`|'Selamat datang, Tiara'|"
      ]
    },
    {
      "cell_type": "markdown",
      "metadata": {
        "id": "90hsZ49b_YmI"
      },
      "source": [
        "**b.** Buatlah sebuah fungsi sederhana yang mengonversi jarak dari kilometer (KM) menjadi meter (M). Fungsi ini akan menerima input berupa jarak dalam kilometer, kemudian mengembalikan hasil konversi dalam meter."
      ]
    },
    {
      "cell_type": "code",
      "execution_count": null,
      "metadata": {
        "id": "hOnmbzSc_YmI",
        "colab": {
          "base_uri": "https://localhost:8080/"
        },
        "outputId": "76a20837-4ff0-479b-a5f9-334f3428ac81"
      },
      "outputs": [
        {
          "output_type": "stream",
          "name": "stdout",
          "text": [
            "Masukkan jarak (KM): 5.5\n",
            "5500.0\n"
          ]
        }
      ],
      "source": [
        "def km_ke_m(km): # Nama fungsi dibebaskan\n",
        "\n",
        "    return km*1000 # Kembalikan hasil perhitungan konversi\n",
        "\n",
        "jarak_km = input(\"Masukkan jarak (KM): \") # Minta input user dengan deskripsi yang sesuai\n",
        "jarak_km = float(jarak_km) # Ubah tipe data input dari user menjadi tipe data yang sesuai (lihat test case)\n",
        "\n",
        "hasil_konversi = km_ke_m(jarak_km) # Panggil fungsi yang sudah dibuat dan hasilnya disimpan ke dalam variabel `hasil_konversi`\n",
        "print(hasil_konversi) # Menampilkan hasil konversi ke terminal"
      ]
    },
    {
      "cell_type": "markdown",
      "metadata": {
        "id": "vUkIeJG2_YmJ"
      },
      "source": [
        "*Test case* program\n",
        "\n",
        "|**Input**|**Output**    |\n",
        "|---------|--------------|\n",
        "|Masukkan jarak (KM): `3` |'3000'|\n",
        "|Masukkan jarak (KM): `4` |'4000'|\n",
        "|Masukkan jarak (KM): `5.5`|'5500'|"
      ]
    },
    {
      "cell_type": "markdown",
      "metadata": {
        "id": "WYOTOUOZ_YmJ"
      },
      "source": [
        "### 4. Perulangan (Bobot Nilai: `15`)"
      ]
    },
    {
      "cell_type": "markdown",
      "metadata": {
        "id": "nTc8dXky_YmJ"
      },
      "source": [
        "**a.** Buatlah program yang menerima *input* dari pengguna berupa sebuah bilangan bulat positif `n`. Program tersebut harus menampiklan semua bilangan ganjil dari 1 hingga `n` menggunakan perulangan `for` dan fungsi `range()`. Top: gunakan langkah kelipatan 2 dalam `range()` untuk menampilkan hanya angka ganjil."
      ]
    },
    {
      "cell_type": "code",
      "execution_count": 16,
      "metadata": {
        "id": "hQSZvjOg_YmJ",
        "colab": {
          "base_uri": "https://localhost:8080/"
        },
        "outputId": "ac3aca62-de08-4416-9fba-41d9fdf260aa"
      },
      "outputs": [
        {
          "output_type": "stream",
          "name": "stdout",
          "text": [
            "Masukkan n: 11\n",
            "1\n",
            "3\n",
            "5\n",
            "7\n",
            "9\n",
            "11\n"
          ]
        }
      ],
      "source": [
        "# Buat kode untuk meminta input pengguna dan konversi input ke integer\n",
        "n = int(input(\"Masukkan n: \"))\n",
        "\n",
        "# Perulangan untuk menampilkan angka ganjil sesuai input user\n",
        "for i in range(1, n+1, 2) : # isi nilai none\n",
        "    print(i)"
      ]
    },
    {
      "cell_type": "markdown",
      "metadata": {
        "id": "FkozJ1nE_YmJ"
      },
      "source": [
        "*Test case* program\n",
        "\n",
        "|**Input**|**Output**    |\n",
        "|---------|--------------|\n",
        "|Masukkan n: `1` |'1'|\n",
        "|Masukkan n: `6` |'1'<br>'1'<br>'5'|\n",
        "|Masukkan n: `11`|'1'<br>'3'<br>'5'<br>'7'<br>'9'<br>'11'|"
      ]
    },
    {
      "cell_type": "markdown",
      "metadata": {
        "id": "-mTYHeBP_YmJ"
      },
      "source": [
        "**b.** Buatlah sebuah fungsi yang menerima argumen `n` dan mengembalikan jumlah dari bilangan bulat dari 1 hingga n.  Sebagai contoh, jika `n = 5`, fungsi tersebut harus menghitung penjumlahan **$1+2+3+4+5$** dan mengembalikan nilai 15. Jika `n` kurang dari 1, kembalikan nilai 0. Gunakan perulangan `while` untuk menghitung jumlah tersebut."
      ]
    },
    {
      "cell_type": "code",
      "execution_count": 19,
      "metadata": {
        "id": "-iP4BmvS_YmJ",
        "colab": {
          "base_uri": "https://localhost:8080/"
        },
        "outputId": "a4a5a87f-1139-49a7-cd5f-b5d5909eeb19"
      },
      "outputs": [
        {
          "output_type": "stream",
          "name": "stdout",
          "text": [
            "Masukkan n: 10\n",
            "55\n"
          ]
        }
      ],
      "source": [
        "def hitung_n(n) : # Buat fungsi untuk menghitung penjumlahan\n",
        "    if n<1 : # Kondisi jika n kurang dari 1\n",
        "        return 0\n",
        "\n",
        "    else :\n",
        "        total = 0\n",
        "        i = 1\n",
        "        while i <= n: # Buat kondisi untuk melakukan perulangan dari 1 hingga n\n",
        "            total += i # Tambah total dengan i\n",
        "            i += 1 # Tambah i dengan 1 sebagai iterator\n",
        "\n",
        "        return total # Mengembalikan variabel yang menampung nilai total\n",
        "\n",
        "\n",
        "# Buat kode untuk meminta input pengguna dan konversi input ke integer\n",
        "n = int(input(\"Masukkan n: \"))\n",
        "\n",
        "hasil = hitung_n(n) # Panggil fungsi untuk menghitung penjumlahan dan simpan hasilnya kedalam variabel\n",
        "print(hasil) # Tampilkan hasil penjumlahan yang sudah dihitung ke terminal"
      ]
    },
    {
      "cell_type": "markdown",
      "metadata": {
        "id": "Xsw5bmrG_YmJ"
      },
      "source": [
        "*Test case* program\n",
        "\n",
        "|**Input**|**Output**    |\n",
        "|---------|--------------|\n",
        "|Masukkan n: `5` |'15'|\n",
        "|Masukkan n: `10` |'55'|\n",
        "|Masukkan n: `-3`|'0'|"
      ]
    },
    {
      "cell_type": "markdown",
      "metadata": {
        "id": "0rLq6VpY_YmJ"
      },
      "source": [
        "### 5. List dan Dictionary (Bobot Nilai: `20`)"
      ]
    },
    {
      "cell_type": "markdown",
      "metadata": {
        "id": "P9xlnlnv_YmJ"
      },
      "source": [
        "**a.** Buat program yang mengganti ekstensi `.go` menjadi `.py` pada setiap elemen dalam list `filenames`. Gunakan metode `.replace()` untuk mengubah ekstensi, kemudian simpan nama file yang telah diubah ke dalam list baru bernama `new_filenames` dan kemudian cetak list ke dalam terminal.\n",
        "\n",
        "Tip :\n",
        "```python\n",
        "sapa_tiara = \"Hai Tiara!!\"\n",
        "print(\"Sapa Tiara:\", sapa_tiara)\n",
        "\n",
        "sapa_farah = sapa_tiara.replace(\"Tiara\", \"Farah\")\n",
        "print(\"Sapa Farah:\", sapa_farah)\n",
        "```\n",
        "\n",
        "output\n",
        "```\n",
        "Sapa Tiara: Hai Tiara!!\n",
        "Sapa Farah: Hai Farah!!\n",
        "```"
      ]
    },
    {
      "cell_type": "code",
      "execution_count": 21,
      "metadata": {
        "id": "JkpQ2vSF_YmK",
        "colab": {
          "base_uri": "https://localhost:8080/"
        },
        "outputId": "fbb807a3-1d53-4692-cf21-99f5aed97363"
      },
      "outputs": [
        {
          "output_type": "stream",
          "name": "stdout",
          "text": [
            "['app.py', 'main.py', 'formula.py', 'program.py']\n"
          ]
        }
      ],
      "source": [
        "filenames = [\"app.go\", \"main.go\", \"formula.go\", \"program.go\"]\n",
        "new_filenames = [] # Buat list kosong\n",
        "\n",
        "for filename in filenames : # Buat loop untuk iterasi elemen pada lit filenames\n",
        "    new_name = filename.replace(\".go\", \".py\") # Ganti ekstensi .go menjadi .py menggunakan .replace()\n",
        "    new_filenames.append(new_name) # Masukkan nama yang sudah diganti ke dalam list new_filenames\n",
        "\n",
        "# Cetak list yang berisi nama file yang sudah diganti\n",
        "print(new_filenames)"
      ]
    },
    {
      "cell_type": "markdown",
      "metadata": {
        "id": "UnMzwlnA_YmK"
      },
      "source": [
        "*Test case* program\n",
        "\n",
        "|**Input**|**Output**    |\n",
        "|---------|--------------|\n",
        "|         |['app.py', 'main.py', 'formula.py', 'program.py']|"
      ]
    },
    {
      "cell_type": "markdown",
      "metadata": {
        "id": "U0g634Hc_YmK"
      },
      "source": [
        "Buatlah fungsi `email_list` yang menerima sebuah dictionary. Dictonary ini berisi nama domain sebagai `key`, dan daftar pengguna sebagai `value`. Lengkapi bagian yang kosong dalam fungsi untuk menghasilkan daftar yang berisi alamat email lengkap (misalnya, `dwiva.arya@gmail.com`). Alamat email ini dihasilkan dengan menggabungkan setiap nama pengguna dengan nama domain yang sesuai.\n",
        "\n",
        "Tip:\n",
        "```python\n",
        "gender_dict = {\n",
        "    \"Rafly\" : \"Laki-Laki\",\n",
        "    \"Iksan\" : \"Laki-Laki\",\n",
        "    \"Imelda\" : \"Perempuan\"\n",
        "}\n",
        "\n",
        "for key, value in gender_dict.items() :\n",
        "    print(\"Key:\", key, \", Value:\", value)\n",
        "```\n",
        "\n",
        "Output\n",
        "```\n",
        "Key: Rafly , Value: Laki-Laki\n",
        "Key: Iksan , Value: Laki-Laki\n",
        "Key: Imelda , Value: Perempuan\n",
        "```"
      ]
    },
    {
      "cell_type": "code",
      "execution_count": 24,
      "metadata": {
        "id": "xDT3nxTg_YmK",
        "colab": {
          "base_uri": "https://localhost:8080/"
        },
        "outputId": "a9a7c142-2241-4732-f11e-aa0b9c802ca7"
      },
      "outputs": [
        {
          "output_type": "stream",
          "name": "stdout",
          "text": [
            "['rafly.arj@gmail.com', 'syahreza.adnan@gmail.com', 'valen.hartanto@gmail.com', 'sabrina.tiara@telkomuniversity.ac.id', 'imelda@telkomuniversity.ac.id', 'raihan.omen@yahoo.com', 'dito.asyraf@yahoo.com']\n",
            "None\n"
          ]
        }
      ],
      "source": [
        "def email_list(domains) :\n",
        "    emails = [] # List untuk menampung email lengkap\n",
        "\n",
        "    # Loop untuk setiap key dan value pada dict domains\n",
        "    for domains, users in domains.items() :\n",
        "        for user in users:\n",
        "            # Tambahakan email lengkap ke list emails\n",
        "            emails.append(user+'@'+domains)\n",
        "\n",
        "    return emails\n",
        "\n",
        "email_domain = {\n",
        "    \"gmail.com\": [\"rafly.arj\", \"syahreza.adnan\", \"valen.hartanto\"],\n",
        "    \"telkomuniversity.ac.id\" : [\"sabrina.tiara\", \"imelda\"],\n",
        "    \"yahoo.com\" : [\"raihan.omen\", \"dito.asyraf\"]\n",
        "}\n",
        "\n",
        "# Panggil fungsi email_list, kemudian masukkan ke dalam variabel\n",
        "hasil = print(email_list(email_domain))\n",
        "\n",
        "print(hasil) # Cetak list hasil email lengkap yang didaptkan dari email_list"
      ]
    },
    {
      "cell_type": "markdown",
      "metadata": {
        "id": "rj7EkeXE_YmR"
      },
      "source": [
        "*Test case* program\n",
        "\n",
        "|**Input**|**Output**    |\n",
        "|---------|--------------|\n",
        "|         |['rafly.arj@gmail.com', 'syahreza.adnan@gmail.com', 'valen.hartanto@gmail.com', 'sabrina.tiara@telkomuniversity.ac.id', 'imelda@telkomuniversity.ac.id', 'raihan.omen@yahoo.com', 'dito.asyraf@yahoo.com']|"
      ]
    },
    {
      "cell_type": "markdown",
      "metadata": {
        "id": "c5mDtRwg_YmR"
      },
      "source": [
        "### 6. Soal Cerita (Bobot Nilai: `40`)\n",
        "\n",
        "Seorang guru ingin membuat program sederhana untuk mencatat nilai ujian siswa. Setiap siswa akan mengikuti **tiga mata pelajaran**. Guru perlu menghitung rata-rata nilai untuk setiap siswa dan menentukan apakah siswa tersebut **lulus** atau **tidak**. Kriteria kelulusan adalah jika rata-rata nilai siswa sama dengan atau lebih dair **70**.\n",
        "\n",
        "Buatlah program yang melakukan hal berikut :\n",
        "1. **Input/Output**\n",
        "    - Meminta input dari pengguna berupa `nama siswa` dan `nilai` untuk tiga mata pelajaran\n",
        "    - Menampilkan **rata-rata nilai** dan **status kelulusan** setiap siswa\n",
        "\n",
        "2. **Penentuan kelulusan**\n",
        "    - Menentukan apakah siswa **lulus** atau **tidak** berdasarkan rata-rata nilainya.\n",
        "\n",
        "3. **Pengulangan program**\n",
        "    - Menggunakan perulangan untuk memasukkan data beberapa siswa hingga pengguna memasukkan `\"selesai\"` sebagai nama siswa\n",
        "\n",
        "4. **Perhitungan rata-rata**\n",
        "    - Membuat fungsi untuk **menghitung rata-rata** yang menerima list nilai sebagai parameter dan mengembalikan rata-rata nilai dari list tersebut\n",
        "\n",
        "5. **Penyimpanan data**\n",
        "    - Gunakan *dictionary* dengan `keys` nama siswa, dan `value` list nilai dari siswa tersebut."
      ]
    },
    {
      "cell_type": "code",
      "execution_count": 26,
      "metadata": {
        "id": "ymvwQNQh_YmR",
        "colab": {
          "base_uri": "https://localhost:8080/"
        },
        "outputId": "b7349bdd-37b3-493c-d153-6ca324afbd80"
      },
      "outputs": [
        {
          "output_type": "stream",
          "name": "stdout",
          "text": [
            "Masukkan nama siswa (atau ketik 'selesai' untuk berhenti): Andi\n",
            "Masukkan nilai mata pelajaran 1: 80\n",
            "Masukkan nilai mata pelajaran 2: 75\n",
            "Masukkan nilai mata pelajaran 3: 90\n",
            "Rata-rata nilai Andi adalah 81.67. Status: Lulus\n",
            "Masukkan nama siswa (atau ketik 'selesai' untuk berhenti): selesai\n",
            "\n",
            "Data Siswa:\n",
            "- Andi: [80, 75, 90], Rata-rata: 81.67, Status: Lulus\n"
          ]
        }
      ],
      "source": [
        "# You’re on Your Own, Kid. Good Luck :)\n",
        "# Fungsi untuk menghitung rata-rata nilai\n",
        "def hitung_rata_rata(nilai_list):\n",
        "    return sum(nilai_list) / len(nilai_list)\n",
        "\n",
        "# Dictionary untuk menyimpan data siswa\n",
        "data_siswa = {}\n",
        "\n",
        "# Pengulangan program\n",
        "while True:\n",
        "    # Input nama siswa\n",
        "    nama = input(\"Masukkan nama siswa (atau ketik 'selesai' untuk berhenti): \")\n",
        "\n",
        "    # Cek apakah pengguna ingin berhenti\n",
        "    if nama.lower() == 'selesai':\n",
        "        break\n",
        "\n",
        "    # List untuk menyimpan nilai\n",
        "    nilai_list = []\n",
        "\n",
        "    # Input nilai untuk tiga mata pelajaran\n",
        "    for i in range(1, 4):\n",
        "        nilai = int(input(f\"Masukkan nilai mata pelajaran {i}: \"))\n",
        "        nilai_list.append(nilai)\n",
        "\n",
        "    # Hitung rata-rata\n",
        "    rata_rata = hitung_rata_rata(nilai_list)\n",
        "\n",
        "    # Tentukan status kelulusan\n",
        "    status = \"Lulus\" if rata_rata >= 70 else \"Tidak Lulus\"\n",
        "\n",
        "    # Tampilkan hasil\n",
        "    print(f\"Rata-rata nilai {nama} adalah {rata_rata:.2f}. Status: {status}\")\n",
        "\n",
        "    # Simpan data siswa\n",
        "    data_siswa[nama] = {\n",
        "        'nilai': nilai_list,\n",
        "        'rata_rata': rata_rata,\n",
        "        'status': status\n",
        "    }\n",
        "\n",
        "# Tampilkan seluruh data siswa\n",
        "print(\"\\nData Siswa:\")\n",
        "for nama, info in data_siswa.items():\n",
        "    print(f\"- {nama}: {info['nilai']}, Rata-rata: {info['rata_rata']:.2f}, Status: {info['status']}\")"
      ]
    },
    {
      "cell_type": "markdown",
      "metadata": {
        "id": "-nH5DFGQ_YmR"
      },
      "source": [
        "**Bagian yang diberikan tanda `ini` adalah masukkan user**\n",
        "\n",
        "*Test case* program\n",
        "\n",
        "**|----------------------------------------------------------------------------------|**\n",
        "\n",
        "Masukkan nama siswa (atau ketik 'selesai' untuk berhenti): `Andi`\n",
        "\n",
        "Masukkan nilai mata pelajaran 1: `80`\n",
        "\n",
        "Masukkan nilai mata pelajaran 2: `75`\n",
        "\n",
        "Masukkan nilai mata pelajaran 3: `90`\n",
        "\n",
        "Rata-rata nilai Andi adalah 81.67. Status: Lulus\n",
        "\n",
        "Masukkan nama siswa (atau ketik 'selesai' untuk berhenti): `Budi`\n",
        "\n",
        "Masukkan nilai mata pelajaran 1: `60`\n",
        "\n",
        "Masukkan nilai mata pelajaran 2: `65`\n",
        "\n",
        "Masukkan nilai mata pelajaran 3: `70`\n",
        "\n",
        "Rata-rata nilai Budi adalah 65.00. Status: Tidak Lulus\n",
        "\n",
        "Masukkan nama siswa (atau ketik 'selesai' untuk berhenti): `selesai`\n",
        "\n",
        "Data Siswa:\n",
        "- Andi: [80, 75, 90], Rata-rata: 81.67, Status: Lulus\n",
        "- Budi: [60, 65, 70], Rata-rata: 65.00, Status: Tidak Lulus\n",
        "\n",
        "**|----------------------------------------------------------------------------------|**"
      ]
    }
  ],
  "metadata": {
    "kernelspec": {
      "display_name": "base",
      "language": "python",
      "name": "python3"
    },
    "language_info": {
      "codemirror_mode": {
        "name": "ipython",
        "version": 3
      },
      "file_extension": ".py",
      "mimetype": "text/x-python",
      "name": "python",
      "nbconvert_exporter": "python",
      "pygments_lexer": "ipython3",
      "version": "3.8.18"
    },
    "colab": {
      "provenance": [],
      "include_colab_link": true
    }
  },
  "nbformat": 4,
  "nbformat_minor": 0
}